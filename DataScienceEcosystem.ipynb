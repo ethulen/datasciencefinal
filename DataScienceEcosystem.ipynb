{
 "cells": [
  {
   "cell_type": "markdown",
   "id": "2afea1df-fa17-4a8b-9a0a-73f4959b822d",
   "metadata": {},
   "source": [
    "# Data Science Tools and Ecosystem"
   ]
  },
  {
   "cell_type": "markdown",
   "id": "facb2267-f336-4e93-b704-bf1b99aef655",
   "metadata": {},
   "source": [
    "In this notebook, Data Science Tools and Ecosystem are summarized."
   ]
  },
  {
   "cell_type": "markdown",
   "id": "87eddce8-f2f4-4e87-bbb3-61fa71d4c916",
   "metadata": {},
   "source": [
    "Some of the popular languages that Data Scientists use are:\n",
    "1. Python\n",
    "1. R\n",
    "1. Julia"
   ]
  },
  {
   "cell_type": "markdown",
   "id": "e523bfe1-1a55-4290-b905-76b4e6c494ae",
   "metadata": {},
   "source": [
    "Some of the popular libraries that Data Scientists use are:\n",
    "1. Pandas\n",
    "1. TensorFlow\n",
    "1. NumPy"
   ]
  },
  {
   "cell_type": "markdown",
   "id": "41a7ff28-2611-4955-bb8a-2c4c93b97d1b",
   "metadata": {},
   "source": [
    "|  | Data Science Tools |  |\n",
    "|---|---|---|\n",
    "| Jupyter Notebook | R Studio | Knime |"
   ]
  },
  {
   "cell_type": "markdown",
   "id": "987eecfb-ed4a-4c03-a9a3-6b43bc284eac",
   "metadata": {},
   "source": [
    "### Below are a few examples of evaluating arithmetic expressions in Python"
   ]
  },
  {
   "cell_type": "code",
   "execution_count": 20,
   "id": "403b98f9-a4e9-45a6-b8a5-b14b1cf46e90",
   "metadata": {},
   "outputs": [
    {
     "data": {
      "text/plain": [
       "4"
      ]
     },
     "execution_count": 20,
     "metadata": {},
     "output_type": "execute_result"
    }
   ],
   "source": [
    "2+2"
   ]
  },
  {
   "cell_type": "code",
   "execution_count": 22,
   "id": "17e72d33-a211-42a7-a5e2-a903f94693da",
   "metadata": {},
   "outputs": [
    {
     "data": {
      "text/plain": [
       "4"
      ]
     },
     "execution_count": 22,
     "metadata": {},
     "output_type": "execute_result"
    }
   ],
   "source": [
    "2*2"
   ]
  },
  {
   "cell_type": "code",
   "execution_count": 24,
   "id": "20752bb4-bbaf-4e04-bc00-403751b87e08",
   "metadata": {},
   "outputs": [
    {
     "data": {
      "text/plain": [
       "0"
      ]
     },
     "execution_count": 24,
     "metadata": {},
     "output_type": "execute_result"
    }
   ],
   "source": [
    "2-2"
   ]
  },
  {
   "cell_type": "code",
   "execution_count": 26,
   "id": "dade8a45-17aa-441e-a85a-2200d2b70377",
   "metadata": {},
   "outputs": [
    {
     "data": {
      "text/plain": [
       "17"
      ]
     },
     "execution_count": 26,
     "metadata": {},
     "output_type": "execute_result"
    }
   ],
   "source": [
    "(3*4)+5\n"
   ]
  },
  {
   "cell_type": "code",
   "execution_count": 28,
   "id": "e11a71d1-e5cf-4158-b1da-95781841088a",
   "metadata": {},
   "outputs": [],
   "source": [
    "# This a simple arithmetic expression to mutiply then add integers"
   ]
  },
  {
   "cell_type": "code",
   "execution_count": 30,
   "id": "71348f33-03f1-40ef-837e-3fe4a7c69087",
   "metadata": {},
   "outputs": [],
   "source": [
    "# This will convert 200 minutes to hours by diving by 60"
   ]
  },
  {
   "cell_type": "code",
   "execution_count": 32,
   "id": "1d6a2a2f-fcc4-4337-a5f5-f594068d534a",
   "metadata": {},
   "outputs": [
    {
     "data": {
      "text/plain": [
       "3.3333333333333335"
      ]
     },
     "execution_count": 32,
     "metadata": {},
     "output_type": "execute_result"
    }
   ],
   "source": [
    "200/60"
   ]
  },
  {
   "cell_type": "markdown",
   "id": "ecf64687-9d21-4335-b8fc-7fa98cf0892e",
   "metadata": {},
   "source": [
    "**Objectives:**\n",
    "* List popular languages for Data Science\n",
    "* Finish this notebook\n",
    "* Eat"
   ]
  },
  {
   "cell_type": "markdown",
   "id": "46091737-3281-4068-9d8e-8d4cb4767b64",
   "metadata": {},
   "source": [
    "## Author:\n",
    "Ethan Hulen"
   ]
  },
  {
   "cell_type": "code",
   "execution_count": null,
   "id": "b85ca2bc-4b7f-48eb-9de1-a4bf7db7c152",
   "metadata": {},
   "outputs": [],
   "source": []
  }
 ],
 "metadata": {
  "kernelspec": {
   "display_name": "anaconda-panel-2023.05-py310",
   "language": "python",
   "name": "conda-env-anaconda-panel-2023.05-py310-py"
  },
  "language_info": {
   "codemirror_mode": {
    "name": "ipython",
    "version": 3
   },
   "file_extension": ".py",
   "mimetype": "text/x-python",
   "name": "python",
   "nbconvert_exporter": "python",
   "pygments_lexer": "ipython3",
   "version": "3.11.5"
  }
 },
 "nbformat": 4,
 "nbformat_minor": 5
}
